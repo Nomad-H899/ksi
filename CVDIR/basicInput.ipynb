{
 "cells": [
  {
   "cell_type": "code",
   "execution_count": 1,
   "metadata": {},
   "outputs": [],
   "source": [
    "import cv2 as cv"
   ]
  },
  {
   "cell_type": "code",
   "execution_count": 2,
   "metadata": {},
   "outputs": [
    {
     "name": "stderr",
     "output_type": "stream",
     "text": [
      "<>:1: SyntaxWarning: invalid escape sequence '\\e'\n",
      "<>:1: SyntaxWarning: invalid escape sequence '\\e'\n",
      "C:\\Users\\김성일\\AppData\\Local\\Temp\\ipykernel_22300\\4214365827.py:1: SyntaxWarning: invalid escape sequence '\\e'\n",
      "  img_12=cv.imread('C:\\ex\\CVDIR\\img\\img\\4star.jpg')\n"
     ]
    }
   ],
   "source": [
    "img_12=cv.imread('C:\\ex\\CVDIR\\img\\img\\4star.jpg')"
   ]
  },
  {
   "cell_type": "code",
   "execution_count": 2,
   "metadata": {},
   "outputs": [
    {
     "ename": "SystemExit",
     "evalue": "파일을 찾을 수 없습니다.",
     "output_type": "error",
     "traceback": [
      "An exception has occurred, use %tb to see the full traceback.\n",
      "\u001b[1;31mSystemExit\u001b[0m\u001b[1;31m:\u001b[0m 파일을 찾을 수 없습니다.\n"
     ]
    }
   ],
   "source": [
    "import cv2 as cv\n",
    "import sys\n",
    "\n",
    "img=cv.imread('soccer.jpg')\n",
    "\n",
    "if img is None:\n",
    "    sys.exit('파일을 찾을 수 없습니다.')\n",
    "\n",
    "cv.imshow('original_RGB',img)\n",
    "cv.imshow('Upper left half',img[0:img.shape[0]//2,0:img.shape[1]//2,:])\n",
    "cv.imshow('Center half',img[img.shape[0]//4:3*img.shape[0]//4,img.shape[1]//4:3*img.shape[1]//4,:])\n",
    "\n",
    "cv.imshow('R channel', img[:,:,2])\n",
    "cv.imshow('G channel', img[:,:,1])\n",
    "cv.imshow('B channel', img[:,:,0])\n",
    "\n",
    "cv.waitkey()\n",
    "cv.destroyAllWindows()"
   ]
  },
  {
   "cell_type": "code",
   "execution_count": null,
   "metadata": {},
   "outputs": [],
   "source": []
  }
 ],
 "metadata": {
  "kernelspec": {
   "display_name": "cv",
   "language": "python",
   "name": "python3"
  },
  "language_info": {
   "codemirror_mode": {
    "name": "ipython",
    "version": 3
   },
   "file_extension": ".py",
   "mimetype": "text/x-python",
   "name": "python",
   "nbconvert_exporter": "python",
   "pygments_lexer": "ipython3",
   "version": "3.12.4"
  }
 },
 "nbformat": 4,
 "nbformat_minor": 2
}
